{
 "cells": [
  {
   "cell_type": "markdown",
   "metadata": {},
   "source": [
    "# 2.Add Two Numbers\n",
    "\n",
    "You are given two non-empty linked lists representing two non-negative integers. The digits are stored in reverse order and each of their nodes contain a single digit. Add the two numbers and return it as a linked list.\n",
    "\n",
    "You may assume the two numbers do not contain any leading zero, except the number 0 itself.\n",
    "\n",
    "https://leetcode.com/problems/add-two-numbers/"
   ]
  },
  {
   "cell_type": "code",
   "execution_count": 8,
   "metadata": {},
   "outputs": [
    {
     "data": {
      "text/plain": [
       "[1, 4, 0, 7]"
      ]
     },
     "execution_count": 8,
     "metadata": {},
     "output_type": "execute_result"
    }
   ],
   "source": [
    "def addTwoNumbers(l1, l2):\n",
    "    small_list = min(l1, l1)\n",
    "    big_list = max(l1,l2)\n",
    "    for j in range(0, len(small_list)):\n",
    "        big_list[j] += small_list[j]\n",
    "        if big_list[j] > 9:\n",
    "            if j+1<len(small_list):\n",
    "                big_list.append(0)\n",
    "            big_list[j+1] += 1\n",
    "            big_list[j] -= 10\n",
    "        \n",
    "    return big_list[::-1]\n",
    "\n",
    "addTwoNumbers([2,4,9], [5,6,4])"
   ]
  },
  {
   "cell_type": "markdown",
   "metadata": {},
   "source": [
    "# 3 Longest Substring Without repeating Characters\n",
    "\n",
    "Given a string, find the length of the longest substring without repeating characters.\n",
    "\n",
    "https://leetcode.com/problems/longest-substring-without-repeating-characters/"
   ]
  },
  {
   "cell_type": "code",
   "execution_count": 4,
   "metadata": {},
   "outputs": [
    {
     "data": {
      "text/plain": [
       "3"
      ]
     },
     "execution_count": 4,
     "metadata": {},
     "output_type": "execute_result"
    }
   ],
   "source": [
    "def lengthOfLongestSubstring(s: str) -> int: # A very bad solution, optimise\n",
    "\n",
    "    if s == \" \":\n",
    "        return 1\n",
    "\n",
    "    else:\n",
    "        s = list(s)\n",
    "        sub = \"\"\n",
    "        for i in range(0, len(s)):\n",
    "            res = s[i]\n",
    "            for j in range(i+1, len(s)):\n",
    "                if s[j] not in res:\n",
    "                    res += s[j]\n",
    "                else:\n",
    "                    break\n",
    "            if len(res) > len(sub):\n",
    "                sub = res\n",
    "            i += 1\n",
    "\n",
    "        return len(sub)\n",
    "    \n",
    "lengthOfLongestSubstring(\"wwekey\")"
   ]
  },
  {
   "cell_type": "markdown",
   "metadata": {},
   "source": [
    "# 11. Container with most water\n",
    "\n",
    "Given n non-negative integers a1, a2, ..., an , where each represents a point at coordinate (i, ai). n vertical lines are drawn such that the two endpoints of line i is at (i, ai) and (i, 0). Find two lines, which together with x-axis forms a container, such that the container contains the most water.\n",
    "\n",
    "https://leetcode.com/problems/container-with-most-water/"
   ]
  },
  {
   "cell_type": "code",
   "execution_count": 8,
   "metadata": {},
   "outputs": [
    {
     "data": {
      "text/plain": [
       "49"
      ]
     },
     "execution_count": 8,
     "metadata": {},
     "output_type": "execute_result"
    }
   ],
   "source": [
    "def maxArea(height: list) -> int:\n",
    "    max_area, ptr1, ptr2 = 0, 0, len(height)-1\n",
    "    while(ptr1 < ptr2):\n",
    "        area = min(height[ptr1], height[ptr2]) * (ptr2-ptr1)\n",
    "        max_area = max(max_area, area)\n",
    "\n",
    "        if height[ptr1] < height[ptr2]:\n",
    "            ptr1 += 1\n",
    "        else:\n",
    "            ptr2 -= 1\n",
    "\n",
    "    return max_area\n",
    "\n",
    "maxArea([1,8,6,2,5,4,8,3,7])\n"
   ]
  },
  {
   "cell_type": "markdown",
   "metadata": {},
   "source": [
    "# 12. Integer to Roman\n",
    "\n",
    "Given an integer, convert it to a roman numeral. Input is guaranteed to be within the range from 1 to 3999.\n",
    "\n",
    "https://leetcode.com/problems/integer-to-roman/"
   ]
  },
  {
   "cell_type": "code",
   "execution_count": 26,
   "metadata": {},
   "outputs": [
    {
     "data": {
      "text/plain": [
       "'XV'"
      ]
     },
     "execution_count": 26,
     "metadata": {},
     "output_type": "execute_result"
    }
   ],
   "source": [
    "def intToRoman(num:int):\n",
    "    nums = [1000,900,500,400, 100, 90, 50, 40, 10, 9, 5, 4, 1]\n",
    "    romans = [\"M\", \"CM\", \"D\", \"CD\", \"C\", \"XC\", \"L\", \"XL\", \"X\", \"IX\", \"V\", \"IV\", \"I\"]\n",
    "    \n",
    "    res = \"\"\n",
    "    \n",
    "    for i in range(0, len(nums)):\n",
    "        while num - nums[i] >= 0:\n",
    "            num = num - nums[i]\n",
    "            res += romans[i]\n",
    "            \n",
    "    return res\n",
    "\n",
    "intToRoman(15)"
   ]
  }
 ],
 "metadata": {
  "kernelspec": {
   "display_name": "Python 3",
   "language": "python",
   "name": "python3"
  },
  "language_info": {
   "codemirror_mode": {
    "name": "ipython",
    "version": 3
   },
   "file_extension": ".py",
   "mimetype": "text/x-python",
   "name": "python",
   "nbconvert_exporter": "python",
   "pygments_lexer": "ipython3",
   "version": "3.7.6"
  }
 },
 "nbformat": 4,
 "nbformat_minor": 4
}
