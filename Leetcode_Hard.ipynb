{
 "cells": [
  {
   "cell_type": "markdown",
   "metadata": {},
   "source": [
    "# 3. Median of Two Sorted Arrays\n",
    "\n",
    "Given two sorted arrays nums1 and nums2 of size m and n respectively.\n",
    "\n",
    "Return the median of the two sorted arrays.\n",
    "\n",
    "https://leetcode.com/problems/median-of-two-sorted-arrays/"
   ]
  },
  {
   "cell_type": "code",
   "execution_count": 37,
   "metadata": {},
   "outputs": [
    {
     "data": {
      "text/plain": [
       "3.5"
      ]
     },
     "execution_count": 37,
     "metadata": {},
     "output_type": "execute_result"
    }
   ],
   "source": [
    "def findMedianSortedArray(nums1:list, nums2:list):\n",
    "    \n",
    "    # Concatenate two lists and re-sort\n",
    "    new_list = sorted(nums1 + nums2)\n",
    "\n",
    "    n = len(new_list)\n",
    "    \n",
    "    if n % 2 == 1: #If odd amount of numbers, return middle number\n",
    "        return new_list[n // 2]\n",
    "    else: # If even amount of numbers, return mean of two middle numbers\n",
    "        return 0.5 *(new_list[n//2-1] + new_list[(n//2)])\n",
    "\n",
    "    \n",
    "findMedianSortedArray([1,2], [3,4,5,6])"
   ]
  }
 ],
 "metadata": {
  "kernelspec": {
   "display_name": "Python 3",
   "language": "python",
   "name": "python3"
  },
  "language_info": {
   "codemirror_mode": {
    "name": "ipython",
    "version": 3
   },
   "file_extension": ".py",
   "mimetype": "text/x-python",
   "name": "python",
   "nbconvert_exporter": "python",
   "pygments_lexer": "ipython3",
   "version": "3.7.6"
  }
 },
 "nbformat": 4,
 "nbformat_minor": 4
}
